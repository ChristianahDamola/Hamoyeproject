{
  "nbformat": 4,
  "nbformat_minor": 0,
  "metadata": {
    "colab": {
      "name": "HamoyeQUIZ.ipynb",
      "provenance": [],
      "collapsed_sections": [],
      "authorship_tag": "ABX9TyOpcLbwETKwUHJ7kYRLODB0",
      "include_colab_link": true
    },
    "kernelspec": {
      "name": "python3",
      "display_name": "Python 3"
    },
    "language_info": {
      "name": "python"
    }
  },
  "cells": [
    {
      "cell_type": "markdown",
      "metadata": {
        "id": "view-in-github",
        "colab_type": "text"
      },
      "source": [
        "<a href=\"https://colab.research.google.com/github/ChristianahDamola/Hamoyeproject/blob/main/HamoyeQUIZ.ipynb\" target=\"_parent\"><img src=\"https://colab.research.google.com/assets/colab-badge.svg\" alt=\"Open In Colab\"/></a>"
      ]
    },
    {
      "cell_type": "code",
      "source": [
        "import pandas as pd\n",
        "\n",
        "df = pd.read_csv(\"https://raw.githubusercontent.com/HamoyeHQ/HDSC-Introduction-to-Python-for-machine-learning/master/README.md\")"
      ],
      "metadata": {
        "id": "63lnZoFjdYM4"
      },
      "execution_count": null,
      "outputs": []
    },
    {
      "cell_type": "code",
      "source": [
        "df.head()\n",
        "df.info()\n",
        "print(type(df))"
      ],
      "metadata": {
        "id": "UZCIbG71eN9L"
      },
      "execution_count": null,
      "outputs": []
    },
    {
      "cell_type": "code",
      "source": [
        "url = 'https://github.com/HamoyeHQ/HDSC-Introduction-to-Python-for-machine-learning/files/7768140/FoodBalanceSheets_E_Africa_NOFLAG.csv'\n",
        "dataf = pd.read_csv(url,encoding= 'unicode escape')"
      ],
      "metadata": {
        "id": "51XAyrmVhbdc"
      },
      "execution_count": null,
      "outputs": []
    },
    {
      "cell_type": "code",
      "source": [
        "dataf.head()"
      ],
      "metadata": {
        "id": "Y3DU42Rbh7_Q"
      },
      "execution_count": null,
      "outputs": []
    },
    {
      "cell_type": "code",
      "source": [
        "#sum of animal fat in 2014 and 2017#\n",
        "animalproduct = dataf.groupby('Item')['Y2014'].sum()\n",
        "print(animalproduct)\n",
        "#2017\n",
        "animalproduct2 = dataf.groupby('Item')['Y2017'].sum()\n",
        "print(animalproduct2)\n"
      ],
      "metadata": {
        "id": "OGvLkLJAlTGb"
      },
      "execution_count": null,
      "outputs": []
    },
    {
      "cell_type": "code",
      "source": [
        "#total number of missing value in 2016\n",
        "dataf.isnull().sum()\n"
      ],
      "metadata": {
        "id": "xO24vDuB1WVT"
      },
      "execution_count": null,
      "outputs": []
    },
    {
      "cell_type": "code",
      "source": [
        "#total import quantity in Algeria 2018\n",
        "importquantity = dataf.groupby(['Element','Area','Unit'])['Y2018'].sum()\n",
        "print (importquantity)"
      ],
      "metadata": {
        "id": "0IqmLDaJZiFz"
      },
      "execution_count": null,
      "outputs": []
    },
    {
      "cell_type": "code",
      "source": [
        "#total number of unique countries in the dataset\n",
        "unique = dataf['Area'].unique()\n",
        "print(unique)\n",
        "print(len(unique))"
      ],
      "metadata": {
        "id": "vt-GQLBrlIFr"
      },
      "execution_count": null,
      "outputs": []
    },
    {
      "cell_type": "code",
      "source": [
        "#element with 3rd lowest sum in 2018\n",
        "MIN2018 = dataf.groupby('Element')['Y2018'].min()\n",
        "print(MIN2018)"
      ],
      "metadata": {
        "id": "k9jdXu1AvGw9"
      },
      "execution_count": null,
      "outputs": []
    },
    {
      "cell_type": "code",
      "source": [
        "#element with the highest sum in 2018\n",
        "Max2018 = dataf.groupby('Element')['Y2018'].max()"
      ],
      "metadata": {
        "id": "t5Ydv862yp3Z"
      },
      "execution_count": 48,
      "outputs": []
    },
    {
      "cell_type": "code",
      "source": [
        "#mean and standard devaiation across 2015\n",
        "Agg2015 = dataf.groupby('Y2015')['Y2015'].agg(['mean','std'])"
      ],
      "metadata": {
        "id": "Y5a-Nmu1zbjb"
      },
      "execution_count": 51,
      "outputs": []
    }
  ]
}